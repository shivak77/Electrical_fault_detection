{
  "cells": [
    {
      "cell_type": "markdown",
      "metadata": {
        "id": "W3EatTY4VQ4S"
      },
      "source": [
        "# Electrical Fault detection"
      ]
    },
    {
      "cell_type": "markdown",
      "metadata": {
        "id": "yOPnc8tVVg_a"
      },
      "source": [
        "We have to predict faults in a power system."
      ]
    },
    {
      "cell_type": "markdown",
      "metadata": {
        "id": "DYUvjaFqVtKh"
      },
      "source": [
        "# Dataset Desciption\n",
        "\n",
        "The dataset contains one file \n",
        "\n",
        "detect_dataset.csv\n",
        "\n",
        "shape of the dataset is (12001, 9)\n",
        "\n",
        "# Columns in dataset\n",
        "\n",
        "there are seven columns\n",
        "\n",
        "'Output (S)',\n",
        "\n",
        "'Ia',\n",
        "\n",
        "'Ib',\n",
        "\n",
        "'Ic',\n",
        "\n",
        "'Va', \n",
        "\n",
        "'Vb', \n",
        "\n",
        "'Vc', \n",
        "\n",
        "'Unnamed: 7',\n",
        "\n",
        "'Unnamed: 8'\n",
        "\n",
        "Outputs - 0 (No-fault) or 1(Fault is present)"
      ]
    },
    {
      "cell_type": "code",
      "execution_count": null,
      "metadata": {
        "id": "onJmI6AzieJL"
      },
      "outputs": [],
      "source": [
        "# Importing Necessary Libraries\n",
        "import pandas as pd\n",
        "import numpy as np"
      ]
    },
    {
      "cell_type": "code",
      "execution_count": null,
      "metadata": {
        "id": "t3U0ef3llvMd"
      },
      "outputs": [],
      "source": [
        "# Read csv file using pandas\n",
        "data = pd.read_csv('detect_dataset.csv')"
      ]
    },
    {
      "cell_type": "code",
      "execution_count": null,
      "metadata": {
        "colab": {
          "base_uri": "https://localhost:8080/",
          "height": 206
        },
        "id": "yckoKHYilvJT",
        "outputId": "13eea159-fda3-4450-b8f0-99938ccd9a46"
      },
      "outputs": [
        {
          "data": {
            "text/html": [
              "\n",
              "  <div id=\"df-dee3197c-1050-48a0-8f44-14c5cb694515\">\n",
              "    <div class=\"colab-df-container\">\n",
              "      <div>\n",
              "<style scoped>\n",
              "    .dataframe tbody tr th:only-of-type {\n",
              "        vertical-align: middle;\n",
              "    }\n",
              "\n",
              "    .dataframe tbody tr th {\n",
              "        vertical-align: top;\n",
              "    }\n",
              "\n",
              "    .dataframe thead th {\n",
              "        text-align: right;\n",
              "    }\n",
              "</style>\n",
              "<table border=\"1\" class=\"dataframe\">\n",
              "  <thead>\n",
              "    <tr style=\"text-align: right;\">\n",
              "      <th></th>\n",
              "      <th>Output (S)</th>\n",
              "      <th>Ia</th>\n",
              "      <th>Ib</th>\n",
              "      <th>Ic</th>\n",
              "      <th>Va</th>\n",
              "      <th>Vb</th>\n",
              "      <th>Vc</th>\n",
              "      <th>Unnamed: 7</th>\n",
              "      <th>Unnamed: 8</th>\n",
              "    </tr>\n",
              "  </thead>\n",
              "  <tbody>\n",
              "    <tr>\n",
              "      <th>0</th>\n",
              "      <td>0</td>\n",
              "      <td>-170.472196</td>\n",
              "      <td>9.219613</td>\n",
              "      <td>161.252583</td>\n",
              "      <td>0.054490</td>\n",
              "      <td>-0.659921</td>\n",
              "      <td>0.605431</td>\n",
              "      <td>NaN</td>\n",
              "      <td>NaN</td>\n",
              "    </tr>\n",
              "    <tr>\n",
              "      <th>1</th>\n",
              "      <td>0</td>\n",
              "      <td>-122.235754</td>\n",
              "      <td>6.168667</td>\n",
              "      <td>116.067087</td>\n",
              "      <td>0.102000</td>\n",
              "      <td>-0.628612</td>\n",
              "      <td>0.526202</td>\n",
              "      <td>NaN</td>\n",
              "      <td>NaN</td>\n",
              "    </tr>\n",
              "    <tr>\n",
              "      <th>2</th>\n",
              "      <td>0</td>\n",
              "      <td>-90.161474</td>\n",
              "      <td>3.813632</td>\n",
              "      <td>86.347841</td>\n",
              "      <td>0.141026</td>\n",
              "      <td>-0.605277</td>\n",
              "      <td>0.464251</td>\n",
              "      <td>NaN</td>\n",
              "      <td>NaN</td>\n",
              "    </tr>\n",
              "    <tr>\n",
              "      <th>3</th>\n",
              "      <td>0</td>\n",
              "      <td>-79.904916</td>\n",
              "      <td>2.398803</td>\n",
              "      <td>77.506112</td>\n",
              "      <td>0.156272</td>\n",
              "      <td>-0.602235</td>\n",
              "      <td>0.445963</td>\n",
              "      <td>NaN</td>\n",
              "      <td>NaN</td>\n",
              "    </tr>\n",
              "    <tr>\n",
              "      <th>4</th>\n",
              "      <td>0</td>\n",
              "      <td>-63.885255</td>\n",
              "      <td>0.590667</td>\n",
              "      <td>63.294587</td>\n",
              "      <td>0.180451</td>\n",
              "      <td>-0.591501</td>\n",
              "      <td>0.411050</td>\n",
              "      <td>NaN</td>\n",
              "      <td>NaN</td>\n",
              "    </tr>\n",
              "  </tbody>\n",
              "</table>\n",
              "</div>\n",
              "      <button class=\"colab-df-convert\" onclick=\"convertToInteractive('df-dee3197c-1050-48a0-8f44-14c5cb694515')\"\n",
              "              title=\"Convert this dataframe to an interactive table.\"\n",
              "              style=\"display:none;\">\n",
              "        \n",
              "  <svg xmlns=\"http://www.w3.org/2000/svg\" height=\"24px\"viewBox=\"0 0 24 24\"\n",
              "       width=\"24px\">\n",
              "    <path d=\"M0 0h24v24H0V0z\" fill=\"none\"/>\n",
              "    <path d=\"M18.56 5.44l.94 2.06.94-2.06 2.06-.94-2.06-.94-.94-2.06-.94 2.06-2.06.94zm-11 1L8.5 8.5l.94-2.06 2.06-.94-2.06-.94L8.5 2.5l-.94 2.06-2.06.94zm10 10l.94 2.06.94-2.06 2.06-.94-2.06-.94-.94-2.06-.94 2.06-2.06.94z\"/><path d=\"M17.41 7.96l-1.37-1.37c-.4-.4-.92-.59-1.43-.59-.52 0-1.04.2-1.43.59L10.3 9.45l-7.72 7.72c-.78.78-.78 2.05 0 2.83L4 21.41c.39.39.9.59 1.41.59.51 0 1.02-.2 1.41-.59l7.78-7.78 2.81-2.81c.8-.78.8-2.07 0-2.86zM5.41 20L4 18.59l7.72-7.72 1.47 1.35L5.41 20z\"/>\n",
              "  </svg>\n",
              "      </button>\n",
              "      \n",
              "  <style>\n",
              "    .colab-df-container {\n",
              "      display:flex;\n",
              "      flex-wrap:wrap;\n",
              "      gap: 12px;\n",
              "    }\n",
              "\n",
              "    .colab-df-convert {\n",
              "      background-color: #E8F0FE;\n",
              "      border: none;\n",
              "      border-radius: 50%;\n",
              "      cursor: pointer;\n",
              "      display: none;\n",
              "      fill: #1967D2;\n",
              "      height: 32px;\n",
              "      padding: 0 0 0 0;\n",
              "      width: 32px;\n",
              "    }\n",
              "\n",
              "    .colab-df-convert:hover {\n",
              "      background-color: #E2EBFA;\n",
              "      box-shadow: 0px 1px 2px rgba(60, 64, 67, 0.3), 0px 1px 3px 1px rgba(60, 64, 67, 0.15);\n",
              "      fill: #174EA6;\n",
              "    }\n",
              "\n",
              "    [theme=dark] .colab-df-convert {\n",
              "      background-color: #3B4455;\n",
              "      fill: #D2E3FC;\n",
              "    }\n",
              "\n",
              "    [theme=dark] .colab-df-convert:hover {\n",
              "      background-color: #434B5C;\n",
              "      box-shadow: 0px 1px 3px 1px rgba(0, 0, 0, 0.15);\n",
              "      filter: drop-shadow(0px 1px 2px rgba(0, 0, 0, 0.3));\n",
              "      fill: #FFFFFF;\n",
              "    }\n",
              "  </style>\n",
              "\n",
              "      <script>\n",
              "        const buttonEl =\n",
              "          document.querySelector('#df-dee3197c-1050-48a0-8f44-14c5cb694515 button.colab-df-convert');\n",
              "        buttonEl.style.display =\n",
              "          google.colab.kernel.accessAllowed ? 'block' : 'none';\n",
              "\n",
              "        async function convertToInteractive(key) {\n",
              "          const element = document.querySelector('#df-dee3197c-1050-48a0-8f44-14c5cb694515');\n",
              "          const dataTable =\n",
              "            await google.colab.kernel.invokeFunction('convertToInteractive',\n",
              "                                                     [key], {});\n",
              "          if (!dataTable) return;\n",
              "\n",
              "          const docLinkHtml = 'Like what you see? Visit the ' +\n",
              "            '<a target=\"_blank\" href=https://colab.research.google.com/notebooks/data_table.ipynb>data table notebook</a>'\n",
              "            + ' to learn more about interactive tables.';\n",
              "          element.innerHTML = '';\n",
              "          dataTable['output_type'] = 'display_data';\n",
              "          await google.colab.output.renderOutput(dataTable, element);\n",
              "          const docLink = document.createElement('div');\n",
              "          docLink.innerHTML = docLinkHtml;\n",
              "          element.appendChild(docLink);\n",
              "        }\n",
              "      </script>\n",
              "    </div>\n",
              "  </div>\n",
              "  "
            ],
            "text/plain": [
              "   Output (S)          Ia        Ib          Ic        Va        Vb        Vc  \\\n",
              "0           0 -170.472196  9.219613  161.252583  0.054490 -0.659921  0.605431   \n",
              "1           0 -122.235754  6.168667  116.067087  0.102000 -0.628612  0.526202   \n",
              "2           0  -90.161474  3.813632   86.347841  0.141026 -0.605277  0.464251   \n",
              "3           0  -79.904916  2.398803   77.506112  0.156272 -0.602235  0.445963   \n",
              "4           0  -63.885255  0.590667   63.294587  0.180451 -0.591501  0.411050   \n",
              "\n",
              "   Unnamed: 7  Unnamed: 8  \n",
              "0         NaN         NaN  \n",
              "1         NaN         NaN  \n",
              "2         NaN         NaN  \n",
              "3         NaN         NaN  \n",
              "4         NaN         NaN  "
            ]
          },
          "execution_count": 40,
          "metadata": {},
          "output_type": "execute_result"
        }
      ],
      "source": [
        "data.head()"
      ]
    },
    {
      "cell_type": "markdown",
      "metadata": {
        "id": "174wyWpVWXHr"
      },
      "source": [
        "# basic EDA"
      ]
    },
    {
      "cell_type": "code",
      "execution_count": null,
      "metadata": {
        "colab": {
          "base_uri": "https://localhost:8080/"
        },
        "id": "RDwkZbfflvIK",
        "outputId": "80073852-ccc0-456e-ca0d-9a86aa0f45f6"
      },
      "outputs": [
        {
          "data": {
            "text/plain": [
              "(12001, 9)"
            ]
          },
          "execution_count": 41,
          "metadata": {},
          "output_type": "execute_result"
        }
      ],
      "source": [
        "#check shape of the dataset\n",
        "data.shape"
      ]
    },
    {
      "cell_type": "code",
      "execution_count": null,
      "metadata": {
        "colab": {
          "base_uri": "https://localhost:8080/"
        },
        "id": "7e8t0ue5lvEV",
        "outputId": "7b38cd7a-490e-48fc-878d-084fdc463486"
      },
      "outputs": [
        {
          "data": {
            "text/plain": [
              "Index(['Output (S)', 'Ia', 'Ib', 'Ic', 'Va', 'Vb', 'Vc', 'Unnamed: 7',\n",
              "       'Unnamed: 8'],\n",
              "      dtype='object')"
            ]
          },
          "execution_count": 42,
          "metadata": {},
          "output_type": "execute_result"
        }
      ],
      "source": [
        "# check columns of dataset\n",
        "data.columns"
      ]
    },
    {
      "cell_type": "code",
      "execution_count": null,
      "metadata": {
        "colab": {
          "base_uri": "https://localhost:8080/"
        },
        "id": "qmywjdE5SjwQ",
        "outputId": "1f3c9423-5a79-43be-9200-8a48c6d7bebb"
      },
      "outputs": [
        {
          "name": "stdout",
          "output_type": "stream",
          "text": [
            "dataset length : 12001\n"
          ]
        }
      ],
      "source": [
        "# check length of dataset\n",
        "print('dataset length :',len(data))"
      ]
    },
    {
      "cell_type": "code",
      "execution_count": null,
      "metadata": {
        "colab": {
          "base_uri": "https://localhost:8080/"
        },
        "id": "1bFLlxnlSgGc",
        "outputId": "52cc9b32-dc75-4122-dc4a-1e43018a31d9"
      },
      "outputs": [
        {
          "name": "stdout",
          "output_type": "stream",
          "text": [
            "<class 'pandas.core.frame.DataFrame'>\n",
            "RangeIndex: 12001 entries, 0 to 12000\n",
            "Data columns (total 9 columns):\n",
            " #   Column      Non-Null Count  Dtype  \n",
            "---  ------      --------------  -----  \n",
            " 0   Output (S)  12001 non-null  int64  \n",
            " 1   Ia          12001 non-null  float64\n",
            " 2   Ib          12001 non-null  float64\n",
            " 3   Ic          12001 non-null  float64\n",
            " 4   Va          12001 non-null  float64\n",
            " 5   Vb          12001 non-null  float64\n",
            " 6   Vc          12001 non-null  float64\n",
            " 7   Unnamed: 7  0 non-null      float64\n",
            " 8   Unnamed: 8  0 non-null      float64\n",
            "dtypes: float64(8), int64(1)\n",
            "memory usage: 843.9 KB\n"
          ]
        }
      ],
      "source": [
        "# Check which columns are having categorical, numerical or boolean values\n",
        "data.info()"
      ]
    },
    {
      "cell_type": "code",
      "execution_count": null,
      "metadata": {
        "colab": {
          "base_uri": "https://localhost:8080/",
          "height": 381
        },
        "id": "WEEyYVD_lvDU",
        "outputId": "b94f5f6f-c8fd-4240-d3d1-0d331cedf279"
      },
      "outputs": [
        {
          "data": {
            "text/html": [
              "\n",
              "  <div id=\"df-05a51d70-7651-49bb-b594-03b20a2ca4bb\">\n",
              "    <div class=\"colab-df-container\">\n",
              "      <div>\n",
              "<style scoped>\n",
              "    .dataframe tbody tr th:only-of-type {\n",
              "        vertical-align: middle;\n",
              "    }\n",
              "\n",
              "    .dataframe tbody tr th {\n",
              "        vertical-align: top;\n",
              "    }\n",
              "\n",
              "    .dataframe thead th {\n",
              "        text-align: right;\n",
              "    }\n",
              "</style>\n",
              "<table border=\"1\" class=\"dataframe\">\n",
              "  <thead>\n",
              "    <tr style=\"text-align: right;\">\n",
              "      <th></th>\n",
              "      <th>Output (S)</th>\n",
              "      <th>Ia</th>\n",
              "      <th>Ib</th>\n",
              "      <th>Ic</th>\n",
              "      <th>Va</th>\n",
              "      <th>Vb</th>\n",
              "      <th>Vc</th>\n",
              "      <th>Unnamed: 7</th>\n",
              "      <th>Unnamed: 8</th>\n",
              "    </tr>\n",
              "  </thead>\n",
              "  <tbody>\n",
              "    <tr>\n",
              "      <th>count</th>\n",
              "      <td>12001.000000</td>\n",
              "      <td>12001.000000</td>\n",
              "      <td>12001.000000</td>\n",
              "      <td>12001.000000</td>\n",
              "      <td>12001.000000</td>\n",
              "      <td>12001.000000</td>\n",
              "      <td>12001.000000</td>\n",
              "      <td>0.0</td>\n",
              "      <td>0.0</td>\n",
              "    </tr>\n",
              "    <tr>\n",
              "      <th>mean</th>\n",
              "      <td>0.457962</td>\n",
              "      <td>6.709369</td>\n",
              "      <td>-26.557793</td>\n",
              "      <td>22.353043</td>\n",
              "      <td>0.010517</td>\n",
              "      <td>-0.015498</td>\n",
              "      <td>0.004980</td>\n",
              "      <td>NaN</td>\n",
              "      <td>NaN</td>\n",
              "    </tr>\n",
              "    <tr>\n",
              "      <th>std</th>\n",
              "      <td>0.498250</td>\n",
              "      <td>377.158470</td>\n",
              "      <td>357.458613</td>\n",
              "      <td>302.052809</td>\n",
              "      <td>0.346221</td>\n",
              "      <td>0.357644</td>\n",
              "      <td>0.349272</td>\n",
              "      <td>NaN</td>\n",
              "      <td>NaN</td>\n",
              "    </tr>\n",
              "    <tr>\n",
              "      <th>min</th>\n",
              "      <td>0.000000</td>\n",
              "      <td>-883.542316</td>\n",
              "      <td>-900.526951</td>\n",
              "      <td>-883.357762</td>\n",
              "      <td>-0.620748</td>\n",
              "      <td>-0.659921</td>\n",
              "      <td>-0.612709</td>\n",
              "      <td>NaN</td>\n",
              "      <td>NaN</td>\n",
              "    </tr>\n",
              "    <tr>\n",
              "      <th>25%</th>\n",
              "      <td>0.000000</td>\n",
              "      <td>-64.348986</td>\n",
              "      <td>-51.421937</td>\n",
              "      <td>-54.562257</td>\n",
              "      <td>-0.237610</td>\n",
              "      <td>-0.313721</td>\n",
              "      <td>-0.278951</td>\n",
              "      <td>NaN</td>\n",
              "      <td>NaN</td>\n",
              "    </tr>\n",
              "    <tr>\n",
              "      <th>50%</th>\n",
              "      <td>0.000000</td>\n",
              "      <td>-3.239788</td>\n",
              "      <td>4.711283</td>\n",
              "      <td>-0.399419</td>\n",
              "      <td>0.002465</td>\n",
              "      <td>-0.007192</td>\n",
              "      <td>0.008381</td>\n",
              "      <td>NaN</td>\n",
              "      <td>NaN</td>\n",
              "    </tr>\n",
              "    <tr>\n",
              "      <th>75%</th>\n",
              "      <td>1.000000</td>\n",
              "      <td>53.823453</td>\n",
              "      <td>69.637787</td>\n",
              "      <td>45.274542</td>\n",
              "      <td>0.285078</td>\n",
              "      <td>0.248681</td>\n",
              "      <td>0.289681</td>\n",
              "      <td>NaN</td>\n",
              "      <td>NaN</td>\n",
              "    </tr>\n",
              "    <tr>\n",
              "      <th>max</th>\n",
              "      <td>1.000000</td>\n",
              "      <td>885.738571</td>\n",
              "      <td>889.868884</td>\n",
              "      <td>901.274261</td>\n",
              "      <td>0.609864</td>\n",
              "      <td>0.627875</td>\n",
              "      <td>0.608243</td>\n",
              "      <td>NaN</td>\n",
              "      <td>NaN</td>\n",
              "    </tr>\n",
              "  </tbody>\n",
              "</table>\n",
              "</div>\n",
              "      <button class=\"colab-df-convert\" onclick=\"convertToInteractive('df-05a51d70-7651-49bb-b594-03b20a2ca4bb')\"\n",
              "              title=\"Convert this dataframe to an interactive table.\"\n",
              "              style=\"display:none;\">\n",
              "        \n",
              "  <svg xmlns=\"http://www.w3.org/2000/svg\" height=\"24px\"viewBox=\"0 0 24 24\"\n",
              "       width=\"24px\">\n",
              "    <path d=\"M0 0h24v24H0V0z\" fill=\"none\"/>\n",
              "    <path d=\"M18.56 5.44l.94 2.06.94-2.06 2.06-.94-2.06-.94-.94-2.06-.94 2.06-2.06.94zm-11 1L8.5 8.5l.94-2.06 2.06-.94-2.06-.94L8.5 2.5l-.94 2.06-2.06.94zm10 10l.94 2.06.94-2.06 2.06-.94-2.06-.94-.94-2.06-.94 2.06-2.06.94z\"/><path d=\"M17.41 7.96l-1.37-1.37c-.4-.4-.92-.59-1.43-.59-.52 0-1.04.2-1.43.59L10.3 9.45l-7.72 7.72c-.78.78-.78 2.05 0 2.83L4 21.41c.39.39.9.59 1.41.59.51 0 1.02-.2 1.41-.59l7.78-7.78 2.81-2.81c.8-.78.8-2.07 0-2.86zM5.41 20L4 18.59l7.72-7.72 1.47 1.35L5.41 20z\"/>\n",
              "  </svg>\n",
              "      </button>\n",
              "      \n",
              "  <style>\n",
              "    .colab-df-container {\n",
              "      display:flex;\n",
              "      flex-wrap:wrap;\n",
              "      gap: 12px;\n",
              "    }\n",
              "\n",
              "    .colab-df-convert {\n",
              "      background-color: #E8F0FE;\n",
              "      border: none;\n",
              "      border-radius: 50%;\n",
              "      cursor: pointer;\n",
              "      display: none;\n",
              "      fill: #1967D2;\n",
              "      height: 32px;\n",
              "      padding: 0 0 0 0;\n",
              "      width: 32px;\n",
              "    }\n",
              "\n",
              "    .colab-df-convert:hover {\n",
              "      background-color: #E2EBFA;\n",
              "      box-shadow: 0px 1px 2px rgba(60, 64, 67, 0.3), 0px 1px 3px 1px rgba(60, 64, 67, 0.15);\n",
              "      fill: #174EA6;\n",
              "    }\n",
              "\n",
              "    [theme=dark] .colab-df-convert {\n",
              "      background-color: #3B4455;\n",
              "      fill: #D2E3FC;\n",
              "    }\n",
              "\n",
              "    [theme=dark] .colab-df-convert:hover {\n",
              "      background-color: #434B5C;\n",
              "      box-shadow: 0px 1px 3px 1px rgba(0, 0, 0, 0.15);\n",
              "      filter: drop-shadow(0px 1px 2px rgba(0, 0, 0, 0.3));\n",
              "      fill: #FFFFFF;\n",
              "    }\n",
              "  </style>\n",
              "\n",
              "      <script>\n",
              "        const buttonEl =\n",
              "          document.querySelector('#df-05a51d70-7651-49bb-b594-03b20a2ca4bb button.colab-df-convert');\n",
              "        buttonEl.style.display =\n",
              "          google.colab.kernel.accessAllowed ? 'block' : 'none';\n",
              "\n",
              "        async function convertToInteractive(key) {\n",
              "          const element = document.querySelector('#df-05a51d70-7651-49bb-b594-03b20a2ca4bb');\n",
              "          const dataTable =\n",
              "            await google.colab.kernel.invokeFunction('convertToInteractive',\n",
              "                                                     [key], {});\n",
              "          if (!dataTable) return;\n",
              "\n",
              "          const docLinkHtml = 'Like what you see? Visit the ' +\n",
              "            '<a target=\"_blank\" href=https://colab.research.google.com/notebooks/data_table.ipynb>data table notebook</a>'\n",
              "            + ' to learn more about interactive tables.';\n",
              "          element.innerHTML = '';\n",
              "          dataTable['output_type'] = 'display_data';\n",
              "          await google.colab.output.renderOutput(dataTable, element);\n",
              "          const docLink = document.createElement('div');\n",
              "          docLink.innerHTML = docLinkHtml;\n",
              "          element.appendChild(docLink);\n",
              "        }\n",
              "      </script>\n",
              "    </div>\n",
              "  </div>\n",
              "  "
            ],
            "text/plain": [
              "         Output (S)            Ia            Ib            Ic            Va  \\\n",
              "count  12001.000000  12001.000000  12001.000000  12001.000000  12001.000000   \n",
              "mean       0.457962      6.709369    -26.557793     22.353043      0.010517   \n",
              "std        0.498250    377.158470    357.458613    302.052809      0.346221   \n",
              "min        0.000000   -883.542316   -900.526951   -883.357762     -0.620748   \n",
              "25%        0.000000    -64.348986    -51.421937    -54.562257     -0.237610   \n",
              "50%        0.000000     -3.239788      4.711283     -0.399419      0.002465   \n",
              "75%        1.000000     53.823453     69.637787     45.274542      0.285078   \n",
              "max        1.000000    885.738571    889.868884    901.274261      0.609864   \n",
              "\n",
              "                 Vb            Vc  Unnamed: 7  Unnamed: 8  \n",
              "count  12001.000000  12001.000000         0.0         0.0  \n",
              "mean      -0.015498      0.004980         NaN         NaN  \n",
              "std        0.357644      0.349272         NaN         NaN  \n",
              "min       -0.659921     -0.612709         NaN         NaN  \n",
              "25%       -0.313721     -0.278951         NaN         NaN  \n",
              "50%       -0.007192      0.008381         NaN         NaN  \n",
              "75%        0.248681      0.289681         NaN         NaN  \n",
              "max        0.627875      0.608243         NaN         NaN  "
            ]
          },
          "execution_count": 45,
          "metadata": {},
          "output_type": "execute_result"
        }
      ],
      "source": [
        "# For more information on the dataset like the total count in all the columns of train data\n",
        "# min, max values and more information of the respective columns \n",
        "data.describe()"
      ]
    },
    {
      "cell_type": "code",
      "execution_count": null,
      "metadata": {
        "colab": {
          "base_uri": "https://localhost:8080/"
        },
        "id": "qR_KvwfZnqDh",
        "outputId": "4ed023fd-c01d-4611-b890-e0c8e3bea888"
      },
      "outputs": [
        {
          "data": {
            "text/plain": [
              "Output (S)        0\n",
              "Ia                0\n",
              "Ib                0\n",
              "Ic                0\n",
              "Va                0\n",
              "Vb                0\n",
              "Vc                0\n",
              "Unnamed: 7    12001\n",
              "Unnamed: 8    12001\n",
              "dtype: int64"
            ]
          },
          "execution_count": 46,
          "metadata": {},
          "output_type": "execute_result"
        }
      ],
      "source": [
        "# Check for missing values in all the columnns of the dataset\n",
        "data.isnull().sum()"
      ]
    },
    {
      "cell_type": "code",
      "execution_count": null,
      "metadata": {
        "colab": {
          "base_uri": "https://localhost:8080/"
        },
        "id": "RHYBt6CzSn3L",
        "outputId": "6ab7065d-d5bc-4c94-fec4-0c12ffd0b3db"
      },
      "outputs": [
        {
          "name": "stdout",
          "output_type": "stream",
          "text": [
            "Output (S) : 2\n",
            "Ia : 12001\n",
            "Ib : 12001\n",
            "Ic : 12001\n",
            "Va : 11996\n",
            "Vb : 11813\n",
            "Vc : 11987\n",
            "Unnamed: 7 : 1\n",
            "Unnamed: 8 : 1\n"
          ]
        }
      ],
      "source": [
        "# loop through datatset to find count of unique values of each column\n",
        "\n",
        "for x in data.columns:\n",
        "  print(x,':',len(data[x].unique()))"
      ]
    },
    {
      "cell_type": "code",
      "execution_count": null,
      "metadata": {
        "id": "kC38hVyv-fyX"
      },
      "outputs": [],
      "source": [
        "# drop 'Unnamed: 7','Unnamed: 8'\n",
        "data.drop(['Unnamed: 7','Unnamed: 8'],axis=1,inplace =True)"
      ]
    },
    {
      "cell_type": "code",
      "execution_count": null,
      "metadata": {
        "colab": {
          "base_uri": "https://localhost:8080/"
        },
        "id": "Y3VNecxg-fuS",
        "outputId": "c1c434a1-7679-412f-f8c2-b3d9a6b4b5ce"
      },
      "outputs": [
        {
          "data": {
            "text/plain": [
              "0    6505\n",
              "1    5496\n",
              "Name: Output (S), dtype: int64"
            ]
          },
          "execution_count": 49,
          "metadata": {},
          "output_type": "execute_result"
        }
      ],
      "source": [
        "# check total number of fault and no-fault instances\n",
        "data['Output (S)'].value_counts()"
      ]
    },
    {
      "cell_type": "markdown",
      "metadata": {
        "id": "2tYBYcVMTXOe"
      },
      "source": [
        "# Correlation Matrix\n",
        "\n",
        "## Why?\n",
        "#### A correlation matrix is a table showing correlation coefficients between variables.\n",
        "\n",
        "### There are three broad reasons for computing a correlation matrix:\n",
        "\n",
        "  1. To summarize a large amount of data where the goal is to see patterns. In our example above, the observable pattern is that all the variables highly correlate with each other.\n",
        "  2. To input into other analyses. For example, people commonly use correlation matrixes as inputs for exploratory factor analysis, confirmatory factor analysis, structural equation models, and linear regression when excluding missing values pairwise.\n",
        "  3. As a diagnostic when checking other analyses. For example, with linear regression, a high amount of correlations suggests that the linear regression estimates will be unreliable."
      ]
    },
    {
      "cell_type": "code",
      "execution_count": null,
      "metadata": {
        "colab": {
          "base_uri": "https://localhost:8080/",
          "height": 325
        },
        "id": "Txt0Rpe4CS_v",
        "outputId": "4c831849-f5b1-4eba-fed4-06870a933a3a"
      },
      "outputs": [
        {
          "name": "stderr",
          "output_type": "stream",
          "text": [
            "<ipython-input-50-13233a4482be>:3: FutureWarning: this method is deprecated in favour of `Styler.format(precision=..)`\n",
            "  corr.style.background_gradient(cmap='coolwarm').set_precision(2)\n"
          ]
        },
        {
          "data": {
            "text/html": [
              "<style type=\"text/css\">\n",
              "#T_9fb7a_row0_col0, #T_9fb7a_row1_col1, #T_9fb7a_row2_col2, #T_9fb7a_row3_col3, #T_9fb7a_row4_col4, #T_9fb7a_row5_col5, #T_9fb7a_row6_col6 {\n",
              "  background-color: #b40426;\n",
              "  color: #f1f1f1;\n",
              "}\n",
              "#T_9fb7a_row0_col1 {\n",
              "  background-color: #9fbfff;\n",
              "  color: #000000;\n",
              "}\n",
              "#T_9fb7a_row0_col2 {\n",
              "  background-color: #90b2fe;\n",
              "  color: #000000;\n",
              "}\n",
              "#T_9fb7a_row0_col3 {\n",
              "  background-color: #c7d7f0;\n",
              "  color: #000000;\n",
              "}\n",
              "#T_9fb7a_row0_col4 {\n",
              "  background-color: #a3c2fe;\n",
              "  color: #000000;\n",
              "}\n",
              "#T_9fb7a_row0_col5 {\n",
              "  background-color: #afcafc;\n",
              "  color: #000000;\n",
              "}\n",
              "#T_9fb7a_row0_col6, #T_9fb7a_row1_col4 {\n",
              "  background-color: #b2ccfb;\n",
              "  color: #000000;\n",
              "}\n",
              "#T_9fb7a_row1_col0 {\n",
              "  background-color: #6b8df0;\n",
              "  color: #f1f1f1;\n",
              "}\n",
              "#T_9fb7a_row1_col2 {\n",
              "  background-color: #5977e3;\n",
              "  color: #f1f1f1;\n",
              "}\n",
              "#T_9fb7a_row1_col3 {\n",
              "  background-color: #6f92f3;\n",
              "  color: #f1f1f1;\n",
              "}\n",
              "#T_9fb7a_row1_col5 {\n",
              "  background-color: #88abfd;\n",
              "  color: #000000;\n",
              "}\n",
              "#T_9fb7a_row1_col6 {\n",
              "  background-color: #c9d7f0;\n",
              "  color: #000000;\n",
              "}\n",
              "#T_9fb7a_row2_col0, #T_9fb7a_row2_col1, #T_9fb7a_row2_col3, #T_9fb7a_row3_col2, #T_9fb7a_row5_col4, #T_9fb7a_row5_col6, #T_9fb7a_row6_col5 {\n",
              "  background-color: #3b4cc0;\n",
              "  color: #f1f1f1;\n",
              "}\n",
              "#T_9fb7a_row2_col4 {\n",
              "  background-color: #a5c3fe;\n",
              "  color: #000000;\n",
              "}\n",
              "#T_9fb7a_row2_col5 {\n",
              "  background-color: #b5cdfa;\n",
              "  color: #000000;\n",
              "}\n",
              "#T_9fb7a_row2_col6 {\n",
              "  background-color: #abc8fd;\n",
              "  color: #000000;\n",
              "}\n",
              "#T_9fb7a_row3_col0 {\n",
              "  background-color: #84a7fc;\n",
              "  color: #f1f1f1;\n",
              "}\n",
              "#T_9fb7a_row3_col1 {\n",
              "  background-color: #506bda;\n",
              "  color: #f1f1f1;\n",
              "}\n",
              "#T_9fb7a_row3_col4 {\n",
              "  background-color: #aac7fd;\n",
              "  color: #000000;\n",
              "}\n",
              "#T_9fb7a_row3_col5 {\n",
              "  background-color: #97b8ff;\n",
              "  color: #000000;\n",
              "}\n",
              "#T_9fb7a_row3_col6 {\n",
              "  background-color: #c3d5f4;\n",
              "  color: #000000;\n",
              "}\n",
              "#T_9fb7a_row4_col0 {\n",
              "  background-color: #5572df;\n",
              "  color: #f1f1f1;\n",
              "}\n",
              "#T_9fb7a_row4_col1 {\n",
              "  background-color: #9dbdff;\n",
              "  color: #000000;\n",
              "}\n",
              "#T_9fb7a_row4_col2 {\n",
              "  background-color: #a9c6fd;\n",
              "  color: #000000;\n",
              "}\n",
              "#T_9fb7a_row4_col3 {\n",
              "  background-color: #aec9fc;\n",
              "  color: #000000;\n",
              "}\n",
              "#T_9fb7a_row4_col5 {\n",
              "  background-color: #3d50c3;\n",
              "  color: #f1f1f1;\n",
              "}\n",
              "#T_9fb7a_row4_col6 {\n",
              "  background-color: #445acc;\n",
              "  color: #f1f1f1;\n",
              "}\n",
              "#T_9fb7a_row5_col0 {\n",
              "  background-color: #6384eb;\n",
              "  color: #f1f1f1;\n",
              "}\n",
              "#T_9fb7a_row5_col1 {\n",
              "  background-color: #6c8ff1;\n",
              "  color: #f1f1f1;\n",
              "}\n",
              "#T_9fb7a_row5_col2, #T_9fb7a_row6_col1 {\n",
              "  background-color: #b6cefa;\n",
              "  color: #000000;\n",
              "}\n",
              "#T_9fb7a_row5_col3 {\n",
              "  background-color: #98b9ff;\n",
              "  color: #000000;\n",
              "}\n",
              "#T_9fb7a_row6_col0 {\n",
              "  background-color: #6687ed;\n",
              "  color: #f1f1f1;\n",
              "}\n",
              "#T_9fb7a_row6_col2 {\n",
              "  background-color: #adc9fd;\n",
              "  color: #000000;\n",
              "}\n",
              "#T_9fb7a_row6_col3 {\n",
              "  background-color: #c4d5f3;\n",
              "  color: #000000;\n",
              "}\n",
              "#T_9fb7a_row6_col4 {\n",
              "  background-color: #4257c9;\n",
              "  color: #f1f1f1;\n",
              "}\n",
              "</style>\n",
              "<table id=\"T_9fb7a_\" class=\"dataframe\">\n",
              "  <thead>\n",
              "    <tr>\n",
              "      <th class=\"blank level0\" >&nbsp;</th>\n",
              "      <th class=\"col_heading level0 col0\" >Output (S)</th>\n",
              "      <th class=\"col_heading level0 col1\" >Ia</th>\n",
              "      <th class=\"col_heading level0 col2\" >Ib</th>\n",
              "      <th class=\"col_heading level0 col3\" >Ic</th>\n",
              "      <th class=\"col_heading level0 col4\" >Va</th>\n",
              "      <th class=\"col_heading level0 col5\" >Vb</th>\n",
              "      <th class=\"col_heading level0 col6\" >Vc</th>\n",
              "    </tr>\n",
              "  </thead>\n",
              "  <tbody>\n",
              "    <tr>\n",
              "      <th id=\"T_9fb7a_level0_row0\" class=\"row_heading level0 row0\" >Output (S)</th>\n",
              "      <td id=\"T_9fb7a_row0_col0\" class=\"data row0 col0\" >1.00</td>\n",
              "      <td id=\"T_9fb7a_row0_col1\" class=\"data row0 col1\" >0.04</td>\n",
              "      <td id=\"T_9fb7a_row0_col2\" class=\"data row0 col2\" >-0.13</td>\n",
              "      <td id=\"T_9fb7a_row0_col3\" class=\"data row0 col3\" >0.12</td>\n",
              "      <td id=\"T_9fb7a_row0_col4\" class=\"data row0 col4\" >-0.04</td>\n",
              "      <td id=\"T_9fb7a_row0_col5\" class=\"data row0 col5\" >0.01</td>\n",
              "      <td id=\"T_9fb7a_row0_col6\" class=\"data row0 col6\" >0.02</td>\n",
              "    </tr>\n",
              "    <tr>\n",
              "      <th id=\"T_9fb7a_level0_row1\" class=\"row_heading level0 row1\" >Ia</th>\n",
              "      <td id=\"T_9fb7a_row1_col0\" class=\"data row1 col0\" >0.04</td>\n",
              "      <td id=\"T_9fb7a_row1_col1\" class=\"data row1 col1\" >1.00</td>\n",
              "      <td id=\"T_9fb7a_row1_col2\" class=\"data row1 col2\" >-0.38</td>\n",
              "      <td id=\"T_9fb7a_row1_col3\" class=\"data row1 col3\" >-0.28</td>\n",
              "      <td id=\"T_9fb7a_row1_col4\" class=\"data row1 col4\" >0.03</td>\n",
              "      <td id=\"T_9fb7a_row1_col5\" class=\"data row1 col5\" >-0.16</td>\n",
              "      <td id=\"T_9fb7a_row1_col6\" class=\"data row1 col6\" >0.13</td>\n",
              "    </tr>\n",
              "    <tr>\n",
              "      <th id=\"T_9fb7a_level0_row2\" class=\"row_heading level0 row2\" >Ib</th>\n",
              "      <td id=\"T_9fb7a_row2_col0\" class=\"data row2 col0\" >-0.13</td>\n",
              "      <td id=\"T_9fb7a_row2_col1\" class=\"data row2 col1\" >-0.38</td>\n",
              "      <td id=\"T_9fb7a_row2_col2\" class=\"data row2 col2\" >1.00</td>\n",
              "      <td id=\"T_9fb7a_row2_col3\" class=\"data row2 col3\" >-0.53</td>\n",
              "      <td id=\"T_9fb7a_row2_col4\" class=\"data row2 col4\" >-0.03</td>\n",
              "      <td id=\"T_9fb7a_row2_col5\" class=\"data row2 col5\" >0.03</td>\n",
              "      <td id=\"T_9fb7a_row2_col6\" class=\"data row2 col6\" >-0.01</td>\n",
              "    </tr>\n",
              "    <tr>\n",
              "      <th id=\"T_9fb7a_level0_row3\" class=\"row_heading level0 row3\" >Ic</th>\n",
              "      <td id=\"T_9fb7a_row3_col0\" class=\"data row3 col0\" >0.12</td>\n",
              "      <td id=\"T_9fb7a_row3_col1\" class=\"data row3 col1\" >-0.28</td>\n",
              "      <td id=\"T_9fb7a_row3_col2\" class=\"data row3 col2\" >-0.53</td>\n",
              "      <td id=\"T_9fb7a_row3_col3\" class=\"data row3 col3\" >1.00</td>\n",
              "      <td id=\"T_9fb7a_row3_col4\" class=\"data row3 col4\" >-0.00</td>\n",
              "      <td id=\"T_9fb7a_row3_col5\" class=\"data row3 col5\" >-0.10</td>\n",
              "      <td id=\"T_9fb7a_row3_col6\" class=\"data row3 col6\" >0.10</td>\n",
              "    </tr>\n",
              "    <tr>\n",
              "      <th id=\"T_9fb7a_level0_row4\" class=\"row_heading level0 row4\" >Va</th>\n",
              "      <td id=\"T_9fb7a_row4_col0\" class=\"data row4 col0\" >-0.04</td>\n",
              "      <td id=\"T_9fb7a_row4_col1\" class=\"data row4 col1\" >0.03</td>\n",
              "      <td id=\"T_9fb7a_row4_col2\" class=\"data row4 col2\" >-0.03</td>\n",
              "      <td id=\"T_9fb7a_row4_col3\" class=\"data row4 col3\" >-0.00</td>\n",
              "      <td id=\"T_9fb7a_row4_col4\" class=\"data row4 col4\" >1.00</td>\n",
              "      <td id=\"T_9fb7a_row4_col5\" class=\"data row4 col5\" >-0.51</td>\n",
              "      <td id=\"T_9fb7a_row4_col6\" class=\"data row4 col6\" >-0.47</td>\n",
              "    </tr>\n",
              "    <tr>\n",
              "      <th id=\"T_9fb7a_level0_row5\" class=\"row_heading level0 row5\" >Vb</th>\n",
              "      <td id=\"T_9fb7a_row5_col0\" class=\"data row5 col0\" >0.01</td>\n",
              "      <td id=\"T_9fb7a_row5_col1\" class=\"data row5 col1\" >-0.16</td>\n",
              "      <td id=\"T_9fb7a_row5_col2\" class=\"data row5 col2\" >0.03</td>\n",
              "      <td id=\"T_9fb7a_row5_col3\" class=\"data row5 col3\" >-0.10</td>\n",
              "      <td id=\"T_9fb7a_row5_col4\" class=\"data row5 col4\" >-0.51</td>\n",
              "      <td id=\"T_9fb7a_row5_col5\" class=\"data row5 col5\" >1.00</td>\n",
              "      <td id=\"T_9fb7a_row5_col6\" class=\"data row5 col6\" >-0.52</td>\n",
              "    </tr>\n",
              "    <tr>\n",
              "      <th id=\"T_9fb7a_level0_row6\" class=\"row_heading level0 row6\" >Vc</th>\n",
              "      <td id=\"T_9fb7a_row6_col0\" class=\"data row6 col0\" >0.02</td>\n",
              "      <td id=\"T_9fb7a_row6_col1\" class=\"data row6 col1\" >0.13</td>\n",
              "      <td id=\"T_9fb7a_row6_col2\" class=\"data row6 col2\" >-0.01</td>\n",
              "      <td id=\"T_9fb7a_row6_col3\" class=\"data row6 col3\" >0.10</td>\n",
              "      <td id=\"T_9fb7a_row6_col4\" class=\"data row6 col4\" >-0.47</td>\n",
              "      <td id=\"T_9fb7a_row6_col5\" class=\"data row6 col5\" >-0.52</td>\n",
              "      <td id=\"T_9fb7a_row6_col6\" class=\"data row6 col6\" >1.00</td>\n",
              "    </tr>\n",
              "  </tbody>\n",
              "</table>\n"
            ],
            "text/plain": [
              "<pandas.io.formats.style.Styler at 0x7f051d45f8e0>"
            ]
          },
          "execution_count": 50,
          "metadata": {},
          "output_type": "execute_result"
        }
      ],
      "source": [
        "# Using pandas\n",
        "corr = data.corr()\n",
        "corr.style.background_gradient(cmap='coolwarm').set_precision(2)"
      ]
    },
    {
      "cell_type": "markdown",
      "metadata": {
        "id": "XnEsWEEsTm-T"
      },
      "source": [
        "# Histogram\n",
        "\n",
        "1. A histogram is an approximate representation of the distribution of numerical data.\n",
        "\n",
        "2. To construct a histogram, the first step is to \"bin\" (or \"bucket\") the range of values—that is, divide the entire range of values into a series of intervals—and then count how many values fall into each interval.\n",
        "\n",
        "3. The words used to describe the patterns in a histogram are: \"symmetric\", \"skewed left\" or \"right\", \"unimodal\", \"bimodal\" or \"multimodal\"."
      ]
    },
    {
      "cell_type": "code",
      "execution_count": null,
      "metadata": {
        "colab": {
          "base_uri": "https://localhost:8080/",
          "height": 636
        },
        "id": "IQ2N-BOlCS-X",
        "outputId": "b57222bf-bf03-4682-b08e-c0a45aa46214"
      },
      "outputs": [
        {
          "data": {
            "text/plain": [
              "array([[<matplotlib.axes._subplots.AxesSubplot object at 0x7f051c6c9820>,\n",
              "        <matplotlib.axes._subplots.AxesSubplot object at 0x7f051c689100>,\n",
              "        <matplotlib.axes._subplots.AxesSubplot object at 0x7f051c6444c0>],\n",
              "       [<matplotlib.axes._subplots.AxesSubplot object at 0x7f051c672130>,\n",
              "        <matplotlib.axes._subplots.AxesSubplot object at 0x7f051c620520>,\n",
              "        <matplotlib.axes._subplots.AxesSubplot object at 0x7f051c5ce850>],\n",
              "       [<matplotlib.axes._subplots.AxesSubplot object at 0x7f051c5ce940>,\n",
              "        <matplotlib.axes._subplots.AxesSubplot object at 0x7f051c5b4070>,\n",
              "        <matplotlib.axes._subplots.AxesSubplot object at 0x7f051c550850>]],\n",
              "      dtype=object)"
            ]
          },
          "execution_count": 51,
          "metadata": {},
          "output_type": "execute_result"
        },
        {
          "data": {
            "image/png": "[encoded data removed]",
            "text/plain": [
              "<Figure size 2160x1152 with 9 Axes>"
            ]
          },
          "metadata": {},
          "output_type": "display_data"
        }
      ],
      "source": [
        "# Histogram using pandas \n",
        "data.hist(figsize=(30,16))"
      ]
    },
    {
      "cell_type": "markdown",
      "metadata": {
        "id": "A9lQc6G_T6le"
      },
      "source": [
        "### Count plot"
      ]
    },
    {
      "cell_type": "code",
      "execution_count": null,
      "metadata": {
        "colab": {
          "base_uri": "https://localhost:8080/",
          "height": 336
        },
        "id": "44nndj72Cjak",
        "outputId": "7d3fd717-1e57-48dc-c228-89f85650fd18"
      },
      "outputs": [
        {
          "name": "stderr",
          "output_type": "stream",
          "text": [
            "/usr/local/lib/python3.8/dist-packages/seaborn/_decorators.py:36: FutureWarning: Pass the following variable as a keyword arg: x. From version 0.12, the only valid positional argument will be `data`, and passing other arguments without an explicit keyword will result in an error or misinterpretation.\n",
            "  warnings.warn(\n"
          ]
        },
        {
          "data": {
            "image/png": "[encoded data removed]",
            "text/plain": [
              "<Figure size 432x288 with 1 Axes>"
            ]
          },
          "metadata": {},
          "output_type": "display_data"
        }
      ],
      "source": [
        "# count plot of Output (S) column\n",
        "import seaborn as sns\n",
        "import matplotlib.pyplot as plt\n",
        "sns.countplot(data['Output (S)'])\n",
        "plt.show()"
      ]
    },
    {
      "cell_type": "markdown",
      "metadata": {
        "id": "TqaIURlaT_e2"
      },
      "source": [
        "# Box plot\n",
        "\n",
        "\n",
        "A boxplot is a standardized way of displaying the dataset based on a five-number summary:\n",
        "\n",
        "    1. Minimum (Q0 or 0th percentile): the lowest data point excluding any outliers.\n",
        "\n",
        "    2. Maximum (Q4 or 100th percentile): the largest data point excluding any outliers.\n",
        "\n",
        "    3. Median (Q2 or 50th percentile): the middle value of the dataset.\n",
        "\n",
        "    4. First quartile (Q1 or 25th percentile): also known as the lower quartile qn(0.25), is the median of the lower half of the dataset.\n",
        "\n",
        "    5. Third quartile (Q3 or 75th percentile): also known as the upper quartile qn(0.75), is the median of the upper half of the dataset"
      ]
    },
    {
      "cell_type": "code",
      "execution_count": null,
      "metadata": {
        "colab": {
          "base_uri": "https://localhost:8080/",
          "height": 386
        },
        "id": "OwU1rU-KCjDn",
        "outputId": "c4b3acdd-8675-4f6c-8631-ef87412a447b"
      },
      "outputs": [
        {
          "data": {
            "image/png": "[encoded data removed]",
            "text/plain": [
              "<Figure size 1440x648 with 1 Axes>"
            ]
          },
          "metadata": {},
          "output_type": "display_data"
        }
      ],
      "source": [
        "# box plot using pandas \n",
        "# box plot for Output (S) column \n",
        "plt.figure(figsize=(20,9))\n",
        "plt.boxplot(x=data['Output (S)'])\n",
        "plt.show()"
      ]
    },
    {
      "cell_type": "code",
      "execution_count": null,
      "metadata": {
        "colab": {
          "base_uri": "https://localhost:8080/",
          "height": 383
        },
        "id": "Ri4cEZKrDDk1",
        "outputId": "ed75fee7-22de-4f67-cd69-0026657ad865"
      },
      "outputs": [
        {
          "data": {
            "image/png": "[encoded data removed]",
            "text/plain": [
              "<Figure size 1440x648 with 1 Axes>"
            ]
          },
          "metadata": {},
          "output_type": "display_data"
        }
      ],
      "source": [
        "# box plot using pandas \n",
        "# box plot for Ia column \n",
        "plt.figure(figsize=(20,9))\n",
        "plt.boxplot(x=data['Ia'])\n",
        "plt.show()\n"
      ]
    },
    {
      "cell_type": "code",
      "execution_count": null,
      "metadata": {
        "colab": {
          "base_uri": "https://localhost:8080/",
          "height": 383
        },
        "id": "iATUk1TjDDiU",
        "outputId": "af3870e4-555a-473b-9853-8048538173f3"
      },
      "outputs": [
        {
          "data": {
            "image/png": "[encoded data removed]",
            "text/plain": [
              "<Figure size 1440x648 with 1 Axes>"
            ]
          },
          "metadata": {},
          "output_type": "display_data"
        }
      ],
      "source": [
        "# box plot using pandas \n",
        "# box plot for Ib column \n",
        "plt.figure(figsize=(20,9))\n",
        "plt.boxplot(x=data['Ib'])\n",
        "plt.show()\n"
      ]
    },
    {
      "cell_type": "code",
      "execution_count": null,
      "metadata": {
        "colab": {
          "base_uri": "https://localhost:8080/",
          "height": 529
        },
        "id": "rJQv1P0hDDe2",
        "outputId": "329e287d-c731-40a0-d51c-c76cccaf3e22"
      },
      "outputs": [
        {
          "data": {
            "text/plain": [
              "{'whiskers': [<matplotlib.lines.Line2D at 0x7f052143de80>,\n",
              "  <matplotlib.lines.Line2D at 0x7f052143d0d0>],\n",
              " 'caps': [<matplotlib.lines.Line2D at 0x7f052147e0a0>,\n",
              "  <matplotlib.lines.Line2D at 0x7f052147ebb0>],\n",
              " 'boxes': [<matplotlib.lines.Line2D at 0x7f052143d610>],\n",
              " 'medians': [<matplotlib.lines.Line2D at 0x7f052147e520>],\n",
              " 'fliers': [<matplotlib.lines.Line2D at 0x7f052147e100>],\n",
              " 'means': []}"
            ]
          },
          "execution_count": 56,
          "metadata": {},
          "output_type": "execute_result"
        },
        {
          "data": {
            "image/png": "[encoded data removed]",
            "text/plain": [
              "<Figure size 1440x648 with 1 Axes>"
            ]
          },
          "metadata": {},
          "output_type": "display_data"
        }
      ],
      "source": [
        "# box plot using pandas \n",
        "# box plot for Ic column \n",
        "plt.figure(figsize=(20,9))\n",
        "plt.boxplot(x=data['Ic'])\n",
        "\n"
      ]
    },
    {
      "cell_type": "code",
      "execution_count": null,
      "metadata": {
        "colab": {
          "base_uri": "https://localhost:8080/",
          "height": 530
        },
        "id": "26iWjxk3DDdf",
        "outputId": "8f6f453c-c220-46cc-834b-1a65f883ed3f"
      },
      "outputs": [
        {
          "data": {
            "text/plain": [
              "{'whiskers': [<matplotlib.lines.Line2D at 0x7f05212014f0>,\n",
              "  <matplotlib.lines.Line2D at 0x7f0521201be0>],\n",
              " 'caps': [<matplotlib.lines.Line2D at 0x7f0521201100>,\n",
              "  <matplotlib.lines.Line2D at 0x7f0521201d30>],\n",
              " 'boxes': [<matplotlib.lines.Line2D at 0x7f05211bf3d0>],\n",
              " 'medians': [<matplotlib.lines.Line2D at 0x7f051d584ca0>],\n",
              " 'fliers': [<matplotlib.lines.Line2D at 0x7f051d584820>],\n",
              " 'means': []}"
            ]
          },
          "execution_count": 57,
          "metadata": {},
          "output_type": "execute_result"
        },
        {
          "data": {
            "image/png": "[encoded data removed]",
            "text/plain": [
              "<Figure size 1440x648 with 1 Axes>"
            ]
          },
          "metadata": {},
          "output_type": "display_data"
        }
      ],
      "source": [
        "# box plot using pandas \n",
        "# box plot for Va column \n",
        "plt.figure(figsize=(20,9))\n",
        "plt.boxplot(x=data['Va'])\n",
        "\n"
      ]
    },
    {
      "cell_type": "code",
      "execution_count": null,
      "metadata": {
        "colab": {
          "base_uri": "https://localhost:8080/",
          "height": 530
        },
        "id": "OqafrG7oDDa8",
        "outputId": "3e81545b-9f85-4d9f-e2cd-2fea6315c4f5"
      },
      "outputs": [
        {
          "data": {
            "text/plain": [
              "{'whiskers': [<matplotlib.lines.Line2D at 0x7f05213eb850>,\n",
              "  <matplotlib.lines.Line2D at 0x7f05213eb070>],\n",
              " 'caps': [<matplotlib.lines.Line2D at 0x7f05213ebd30>,\n",
              "  <matplotlib.lines.Line2D at 0x7f05213eb8e0>],\n",
              " 'boxes': [<matplotlib.lines.Line2D at 0x7f05213df100>],\n",
              " 'medians': [<matplotlib.lines.Line2D at 0x7f05211ce280>],\n",
              " 'fliers': [<matplotlib.lines.Line2D at 0x7f05211ce520>],\n",
              " 'means': []}"
            ]
          },
          "execution_count": 58,
          "metadata": {},
          "output_type": "execute_result"
        },
        {
          "data": {
            "image/png": "[encoded data removed]",
            "text/plain": [
              "<Figure size 1440x648 with 1 Axes>"
            ]
          },
          "metadata": {},
          "output_type": "display_data"
        }
      ],
      "source": [
        "# box plot using pandas \n",
        "# box plot for Vb column \n",
        "plt.figure(figsize=(20,9))\n",
        "plt.boxplot(x=data['Vb'])\n",
        "\n"
      ]
    },
    {
      "cell_type": "code",
      "execution_count": null,
      "metadata": {
        "colab": {
          "base_uri": "https://localhost:8080/",
          "height": 384
        },
        "id": "k0ZMrofFDDYt",
        "outputId": "543a3e95-095b-4e78-b6e8-83459c97f490"
      },
      "outputs": [
        {
          "data": {
            "image/png": "[encoded data removed]",
            "text/plain": [
              "<Figure size 1440x648 with 1 Axes>"
            ]
          },
          "metadata": {},
          "output_type": "display_data"
        }
      ],
      "source": [
        "# box plot using pandas \n",
        "# box plot for Vc column \n",
        "plt.figure(figsize=(20,9))\n",
        "plt.boxplot(x=data['Vc'])\n",
        "plt.show()\n"
      ]
    },
    {
      "cell_type": "markdown",
      "metadata": {
        "id": "jh9Q36xXZAeq"
      },
      "source": [
        "Dataset is balanced and not skewed in nature"
      ]
    },
    {
      "cell_type": "markdown",
      "metadata": {
        "id": "VoN41RlaUG_Y"
      },
      "source": [
        "# Dendrogram"
      ]
    },
    {
      "cell_type": "code",
      "execution_count": null,
      "metadata": {
        "colab": {
          "base_uri": "https://localhost:8080/",
          "height": 453
        },
        "id": "_r5MsTqWDDU-",
        "outputId": "11f623d5-6a55-4f1e-d969-7279c96d9edf"
      },
      "outputs": [
        {
          "data": {
            "image/png": "[encoded data removed]",
            "text/plain": [
              "<Figure size 1152x648 with 1 Axes>"
            ]
          },
          "metadata": {},
          "output_type": "display_data"
        }
      ],
      "source": [
        "# Plot a Dendrogram on the columns of the dataset\n",
        "X = data.dropna()\n",
        "# droping the NaN values\n",
        "import scipy\n",
        "from scipy.cluster import hierarchy as hc\n",
        "\n",
        "corr = np.round(scipy.stats.spearmanr(X).correlation,4)\n",
        "corr_condensed = hc.distance.squareform(1-corr)\n",
        "z = hc.linkage(corr_condensed,method='average')\n",
        "fig = plt.figure(figsize=(16,9))\n",
        "dendrogram = hc.dendrogram(z,labels=X.columns,orientation='left',leaf_font_size=12)\n",
        "plt.show()\n"
      ]
    },
    {
      "cell_type": "markdown",
      "metadata": {
        "id": "iNvxoKcNUX3H"
      },
      "source": [
        "# Preprocessing, Modeling and prediction on test data"
      ]
    },
    {
      "cell_type": "code",
      "execution_count": null,
      "metadata": {
        "colab": {
          "base_uri": "https://localhost:8080/"
        },
        "id": "all5bN2N-fou",
        "outputId": "52fcf7e7-9077-49d0-b3ac-68552f7519b5"
      },
      "outputs": [
        {
          "name": "stdout",
          "output_type": "stream",
          "text": [
            "(12001, 6) (12001,)\n"
          ]
        }
      ],
      "source": [
        "## Split the labels and the target\n",
        "X = data.drop(['Output (S)'],axis=1)\n",
        "y = data['Output (S)']\n",
        "#check the shape \n",
        "print(X.shape,y.shape)"
      ]
    },
    {
      "cell_type": "code",
      "execution_count": null,
      "metadata": {
        "colab": {
          "base_uri": "https://localhost:8080/"
        },
        "id": "6-r_W-3k-flM",
        "outputId": "9ca9f2d1-c431-4fb0-eea8-11283edb0c2c"
      },
      "outputs": [
        {
          "name": "stdout",
          "output_type": "stream",
          "text": [
            "(9600, 6) (9600,)\n",
            "(2401, 6) (2401,)\n"
          ]
        }
      ],
      "source": [
        "# import train test split\n",
        "from sklearn.model_selection import train_test_split\n",
        "# Split into training (80%) and testing set (20%)\n",
        "X_train,X_test,y_train,y_test = train_test_split(X,y,test_size=0.20,random_state=42)\n",
        "\n",
        "# check shape of X_train and y_train\n",
        "print(X_train.shape,y_train.shape)\n",
        "\n",
        "# check shape of X_test and y_test\n",
        "print(X_test.shape,y_test.shape)"
      ]
    },
    {
      "cell_type": "code",
      "execution_count": null,
      "metadata": {
        "id": "7cnRR-ySITAb"
      },
      "outputs": [],
      "source": [
        "y_train = y_train.values.reshape(-1,1)"
      ]
    },
    {
      "cell_type": "markdown",
      "metadata": {
        "id": "JZ5YmmuoUk_8"
      },
      "source": [
        "### Scaling"
      ]
    },
    {
      "cell_type": "code",
      "execution_count": null,
      "metadata": {
        "id": "HQmvIGL8-fj_"
      },
      "outputs": [],
      "source": [
        "# import min max scalar\n",
        "from sklearn.preprocessing import MinMaxScaler\n",
        "\n",
        "# Instantiate t\n",
        "t = MinMaxScaler()\n",
        "\n",
        "# fit on train data\n",
        "X_train =t.fit_transform(X_train)\n",
        "\n",
        "# fit on test data\n",
        "X_test = t.transform(X_test)"
      ]
    },
    {
      "cell_type": "code",
      "execution_count": null,
      "metadata": {
        "id": "UZCxM1BcwbFT"
      },
      "outputs": [],
      "source": [
        "# Visualize importance of all the features in the dataset for the prediction\n",
        "def visualize_importance(feature_importances, feat_train_df):\n",
        "    feature_importance_df = pd.DataFrame()\n",
        "\n",
        "    _df = pd.DataFrame()\n",
        "    _df['feature_importance'] = feature_importances\n",
        "    _df['column'] = feat_train_df.columns\n",
        "    feature_importance_df = pd.concat([feature_importance_df, _df], \n",
        "                                      axis=0, ignore_index=True)\n",
        "\n",
        "    order = feature_importance_df.groupby('column')\\\n",
        "        .sum()[['feature_importance']]\\\n",
        "        .sort_values('feature_importance', ascending=False).index[:50]\n",
        "\n",
        "    fig, ax = plt.subplots(figsize=(8, max(6, len(order) * .25)))\n",
        "    sns.boxenplot(data=feature_importance_df, \n",
        "                  x='feature_importance', \n",
        "                  y='column', \n",
        "                  order=order, \n",
        "                  ax=ax, \n",
        "                  palette='viridis', \n",
        "                  orient='h')\n",
        "    ax.tick_params(axis='x', rotation=0)\n",
        "    ax.set_title('Importance')\n",
        "    ax.grid()\n",
        "    fig.tight_layout()\n",
        "    return fig, ax  \n",
        "\n",
        "\n",
        "\n"
      ]
    },
    {
      "cell_type": "code",
      "execution_count": null,
      "metadata": {
        "id": "D10N3U1lLxQB"
      },
      "outputs": [],
      "source": [
        "# import accuracy_score, precision_score, precision_score, confusion_matrix\n",
        "from sklearn.metrics import classification_report,confusion_matrix,precision_score,accuracy_score,recall_score,ConfusionMatrixDisplay\n"
      ]
    },
    {
      "cell_type": "markdown",
      "metadata": {
        "id": "TX3S-qx5Uvzq"
      },
      "source": [
        "## LogisticRegression"
      ]
    },
    {
      "cell_type": "code",
      "execution_count": null,
      "metadata": {
        "colab": {
          "base_uri": "https://localhost:8080/",
          "height": 891
        },
        "id": "z8IKjUjhwbAt",
        "outputId": "69748fc7-21f7-4ccb-c1aa-3fab147eac53"
      },
      "outputs": [
        {
          "name": "stdout",
          "output_type": "stream",
          "text": [
            "accuracy_score : 0.7338608912952936\n",
            "precision_score: 0.41643835616438357\n",
            "recall_score : 1.0\n"
          ]
        },
        {
          "name": "stderr",
          "output_type": "stream",
          "text": [
            "/usr/local/lib/python3.8/dist-packages/sklearn/utils/validation.py:993: DataConversionWarning: A column-vector y was passed when a 1d array was expected. Please change the shape of y to (n_samples, ), for example using ravel().\n",
            "  y = column_or_1d(y, warn=True)\n",
            "/usr/local/lib/python3.8/dist-packages/sklearn/utils/deprecation.py:87: FutureWarning: Function plot_confusion_matrix is deprecated; Function `plot_confusion_matrix` is deprecated in 1.0 and will be removed in 1.2. Use one of the class methods: ConfusionMatrixDisplay.from_predictions or ConfusionMatrixDisplay.from_estimator.\n",
            "  warnings.warn(msg, category=FutureWarning)\n"
          ]
        },
        {
          "name": "stdout",
          "output_type": "stream",
          "text": [
            "CPU times: user 243 ms, sys: 209 ms, total: 452 ms\n",
            "Wall time: 264 ms\n"
          ]
        },
        {
          "data": {
            "image/png": "[encoded data removed]",
            "text/plain": [
              "<Figure size 576x432 with 1 Axes>"
            ]
          },
          "metadata": {},
          "output_type": "display_data"
        },
        {
          "data": {
            "image/png": "[encoded data removed]",
            "text/plain": [
              "<Figure size 432x288 with 2 Axes>"
            ]
          },
          "metadata": {},
          "output_type": "display_data"
        }
      ],
      "source": [
        "%%time\n",
        "import sklearn.metrics as metrics\n",
        "# Fit a logistic Regression model to the train dataset\n",
        "\n",
        "# Import logisticRegressor\n",
        "from sklearn.linear_model import LogisticRegression\n",
        "\n",
        "# Instantiate the model\n",
        "logreg = LogisticRegression()\n",
        "\n",
        "# fitting the model on train data\n",
        "logreg.fit(X_train, y_train)\n",
        "\n",
        "#predict on test data\n",
        "y_pred_lr = logreg.predict(X_test)\n",
        "\n",
        "# print accuracy_score,precision_score,recall_score,confusion_matrix\n",
        "\n",
        "print('accuracy_score :',accuracy_score(y_pred_lr,y_test))\n",
        "print('precision_score:',precision_score(y_pred_lr,y_test))\n",
        "print('recall_score :',recall_score(y_pred_lr,y_test))\n",
        "confusion_matrix(y_pred_lr,y_test)\n",
        "# visualizing importance of features\n",
        "fig,ax= visualize_importance(logreg.coef_[0],X)\n",
        "\n",
        "# display confusion matrix\n",
        "disp = metrics.plot_confusion_matrix(logreg, X_test, y_test,\n",
        "                                 cmap=plt.cm.Blues,\n",
        "                                 normalize='true')"
      ]
    },
    {
      "cell_type": "markdown",
      "metadata": {
        "id": "jMuXcH7vU0lG"
      },
      "source": [
        "## RandomForestClassifier"
      ]
    },
    {
      "cell_type": "code",
      "execution_count": null,
      "metadata": {
        "colab": {
          "base_uri": "https://localhost:8080/",
          "height": 906
        },
        "id": "orHP9CXNwa_b",
        "outputId": "ab29f661-4fd8-4dcc-98aa-33efca1dd01c"
      },
      "outputs": [
        {
          "name": "stderr",
          "output_type": "stream",
          "text": [
            "<timed exec>:10: DataConversionWarning: A column-vector y was passed when a 1d array was expected. Please change the shape of y to (n_samples,), for example using ravel().\n"
          ]
        },
        {
          "name": "stdout",
          "output_type": "stream",
          "text": [
            "accuracy_score : 0.9979175343606831\n",
            "precision_score: 0.9990867579908675\n",
            "recall_score : 0.9963570127504554\n",
            "[[1302    1]\n",
            " [   4 1094]]\n",
            "CPU times: user 1.57 s, sys: 86 ms, total: 1.65 s\n",
            "Wall time: 1.57 s\n"
          ]
        },
        {
          "name": "stderr",
          "output_type": "stream",
          "text": [
            "/usr/local/lib/python3.8/dist-packages/sklearn/utils/deprecation.py:87: FutureWarning: Function plot_confusion_matrix is deprecated; Function `plot_confusion_matrix` is deprecated in 1.0 and will be removed in 1.2. Use one of the class methods: ConfusionMatrixDisplay.from_predictions or ConfusionMatrixDisplay.from_estimator.\n",
            "  warnings.warn(msg, category=FutureWarning)\n"
          ]
        },
        {
          "data": {
            "image/png": "[encoded data removed]",
            "text/plain": [
              "<Figure size 576x432 with 1 Axes>"
            ]
          },
          "metadata": {},
          "output_type": "display_data"
        },
        {
          "data": {
            "image/png": "[encoded data removed]",
            "text/plain": [
              "<Figure size 432x288 with 2 Axes>"
            ]
          },
          "metadata": {},
          "output_type": "display_data"
        }
      ],
      "source": [
        "%%time\n",
        "# Fit a RandomForestClassifier model to the train dataset\n",
        "\n",
        "#import RandomForestClassifier\n",
        "from sklearn.ensemble import RandomForestClassifier\n",
        "\n",
        "# Instantiate the model\n",
        "rf_clf = RandomForestClassifier()\n",
        "\n",
        "# fitting the model on train data\n",
        "rf_clf.fit(X_train,y_train)\n",
        "\n",
        "# predict on test data\n",
        "y_predict_rf = rf_clf.predict(X_test)\n",
        "\n",
        "# print accuracy_score,precision_score,recall_score,confusion_matrix\n",
        "print('accuracy_score :',accuracy_score(y_predict_rf,y_test))\n",
        "print('precision_score:',precision_score(y_predict_rf,y_test))\n",
        "print('recall_score :',recall_score(y_predict_rf,y_test))\n",
        "print(confusion_matrix(y_predict_rf,y_test))\n",
        "# visualizing importance of features\n",
        "fig,ax= visualize_importance(rf_clf.feature_importances_,X)\n",
        "\n",
        "# display confusion matrix\n",
        "disp = metrics.plot_confusion_matrix(rf_clf, X_test, y_test,\n",
        "                                 cmap=plt.cm.Blues,\n",
        "                                 normalize='true')\n",
        "\n"
      ]
    },
    {
      "cell_type": "markdown",
      "metadata": {
        "id": "boAQ9dIRU3Xd"
      },
      "source": [
        "## DecisionTreeClassifier"
      ]
    },
    {
      "cell_type": "code",
      "execution_count": null,
      "metadata": {
        "colab": {
          "base_uri": "https://localhost:8080/",
          "height": 887
        },
        "id": "Hc3mwALPwa7-",
        "outputId": "c5b39908-4e8a-4e11-aa2a-aaf4b247cdbf"
      },
      "outputs": [
        {
          "name": "stdout",
          "output_type": "stream",
          "text": [
            "accuracy_score : 0.9958350687213661\n",
            "precision_score: 0.9963470319634703\n",
            "recall_score : 0.9945305378304466\n",
            "[[1300    4]\n",
            " [   6 1091]]\n",
            "CPU times: user 210 ms, sys: 66.6 ms, total: 276 ms\n",
            "Wall time: 214 ms\n"
          ]
        },
        {
          "name": "stderr",
          "output_type": "stream",
          "text": [
            "/usr/local/lib/python3.8/dist-packages/sklearn/utils/deprecation.py:87: FutureWarning: Function plot_confusion_matrix is deprecated; Function `plot_confusion_matrix` is deprecated in 1.0 and will be removed in 1.2. Use one of the class methods: ConfusionMatrixDisplay.from_predictions or ConfusionMatrixDisplay.from_estimator.\n",
            "  warnings.warn(msg, category=FutureWarning)\n"
          ]
        },
        {
          "data": {
            "image/png": "[encoded data removed]",
            "text/plain": [
              "<Figure size 576x432 with 1 Axes>"
            ]
          },
          "metadata": {},
          "output_type": "display_data"
        },
        {
          "data": {
            "image/png": "[encoded data removed]",
            "text/plain": [
              "<Figure size 432x288 with 2 Axes>"
            ]
          },
          "metadata": {},
          "output_type": "display_data"
        }
      ],
      "source": [
        "%%time\n",
        "# Fit a DecisionTreeClassifier model to the train dataset\n",
        "\n",
        "#import DecisionTreeClassifier\n",
        "from sklearn.tree import DecisionTreeClassifier\n",
        "\n",
        "# Instantiate the model\n",
        "clf = DecisionTreeClassifier()\n",
        "\n",
        "# fitting the model on train data\n",
        "\n",
        "clf.fit(X_train,y_train)\n",
        "# predict on test data\n",
        "y_pred = clf.predict(X_test)\n",
        "\n",
        "# print accuracy_score,precision_score,precision_score,confusion_matrix\n",
        "print('accuracy_score :',accuracy_score(y_pred,y_test))\n",
        "print('precision_score:',precision_score(y_pred,y_test))\n",
        "print('recall_score :',recall_score(y_pred,y_test))\n",
        "print(confusion_matrix(y_pred,y_test))\n",
        "# visualizing importance of features\n",
        "fig,ax= visualize_importance(clf.feature_importances_,X)\n",
        "\n",
        "# display confusion matrix\n",
        "disp = metrics.plot_confusion_matrix(clf, X_test, y_test,\n",
        "                                 cmap=plt.cm.Blues,\n",
        "                                 normalize='true')\n",
        "\n",
        "\n"
      ]
    },
    {
      "cell_type": "markdown",
      "metadata": {
        "id": "GManaGfgU7io"
      },
      "source": [
        "## GradientBoostingClassifier"
      ]
    },
    {
      "cell_type": "code",
      "execution_count": null,
      "metadata": {
        "colab": {
          "base_uri": "https://localhost:8080/",
          "height": 924
        },
        "id": "yDuLFGFEwa6i",
        "outputId": "81e75308-774d-487b-bcb5-59c07cc3b97b"
      },
      "outputs": [
        {
          "name": "stderr",
          "output_type": "stream",
          "text": [
            "/usr/local/lib/python3.8/dist-packages/sklearn/ensemble/_gb.py:494: DataConversionWarning: A column-vector y was passed when a 1d array was expected. Please change the shape of y to (n_samples, ), for example using ravel().\n",
            "  y = column_or_1d(y, warn=True)\n"
          ]
        },
        {
          "name": "stdout",
          "output_type": "stream",
          "text": [
            "accuracy_score : 0.9979175343606831\n",
            "precision_score: 0.9990867579908675\n",
            "recall_score : 0.9963570127504554\n",
            "[[1302    1]\n",
            " [   4 1094]]\n",
            "CPU times: user 2.4 s, sys: 50.3 ms, total: 2.45 s\n",
            "Wall time: 2.41 s\n"
          ]
        },
        {
          "name": "stderr",
          "output_type": "stream",
          "text": [
            "/usr/local/lib/python3.8/dist-packages/sklearn/utils/deprecation.py:87: FutureWarning: Function plot_confusion_matrix is deprecated; Function `plot_confusion_matrix` is deprecated in 1.0 and will be removed in 1.2. Use one of the class methods: ConfusionMatrixDisplay.from_predictions or ConfusionMatrixDisplay.from_estimator.\n",
            "  warnings.warn(msg, category=FutureWarning)\n"
          ]
        },
        {
          "data": {
            "image/png": "[encoded data removed]",
            "text/plain": [
              "<Figure size 576x432 with 1 Axes>"
            ]
          },
          "metadata": {},
          "output_type": "display_data"
        },
        {
          "data": {
            "image/png": "[encoded data removed]",
            "text/plain": [
              "<Figure size 432x288 with 2 Axes>"
            ]
          },
          "metadata": {},
          "output_type": "display_data"
        }
      ],
      "source": [
        "%%time\n",
        "# Fit a Gradient Boosting Classifier model to the train dataset\n",
        "\n",
        "# Import GradientBoostingClassifier\n",
        "from sklearn.ensemble import GradientBoostingClassifier\n",
        "\n",
        "# Instantiate the model\n",
        "GBR_clf = GradientBoostingClassifier()\n",
        "\n",
        "# fitting the model on train data\n",
        "GBR_clf.fit(X_train,y_train)\n",
        "\n",
        "# predict on test data\n",
        "GBR_pred = GBR_clf.predict(X_test)\n",
        "\n",
        "# print accuracy_score,precision_score,precision_score,confusion_matrix\n",
        "print('accuracy_score :',accuracy_score(GBR_pred,y_test))\n",
        "print('precision_score:',precision_score(GBR_pred,y_test))\n",
        "print('recall_score :',recall_score(GBR_pred,y_test))\n",
        "print(confusion_matrix(GBR_pred,y_test))\n",
        "# visualizing importance of features\n",
        "fig,ax= visualize_importance(GBR_clf.feature_importances_,X)\n",
        "\n",
        "# display confusion matrix\n",
        "disp = metrics.plot_confusion_matrix(GBR_clf, X_test, y_test,\n",
        "                                 cmap=plt.cm.Blues,\n",
        "                                 normalize='true')\n",
        "\n"
      ]
    },
    {
      "cell_type": "markdown",
      "metadata": {
        "id": "h-SaINO6YrZe"
      },
      "source": [
        "## Hyper parameter tunning\n",
        "\n",
        "A hyperparameter is a parameter whose value is set before the learning process begins.\n",
        "\n",
        "Hyperparameters tuning is crucial as they control the overall behavior of a machine learning model.\n",
        "\n",
        "Every machine learning models will have different hyperparameters that can be set.\n",
        "\n",
        "###RandomizedSearchCV\n",
        "\n",
        "RandomizedSearchCV is very useful when we have many parameters to try and the training time is very long.\n",
        "\n",
        "1. The first step is to write the parameters that we want to consider\n",
        "2. From these parameters select the best ones.(which are printed in output)"
      ]
    },
    {
      "cell_type": "code",
      "execution_count": null,
      "metadata": {
        "id": "NOC29Wj5YbCO"
      },
      "outputs": [],
      "source": [
        "# Helper function to perform hyper parameter tunning with RandomizedSearchCV\n",
        "def random_search(model,X_train,Y_train,param_grid):\n",
        "  from sklearn.model_selection import RandomizedSearchCV\n",
        "\n",
        "  # Random search of parameters, using 3 fold cross validation, \n",
        "  # search across 100 different combinations, and use all available cores\n",
        "  random = RandomizedSearchCV(estimator =model,param_distributions =param_grid,cv=3,n_iter = 100,verbose=2,random_state=42,n_jobs=-1)\n",
        "\n",
        "  # Fit the random search model\n",
        "  random.fit(X_train,y_train)\n",
        "  random.best_params_"
      ]
    },
    {
      "cell_type": "code",
      "execution_count": null,
      "metadata": {
        "colab": {
          "background_save": true,
          "base_uri": "https://localhost:8080/"
        },
        "id": "XFlw8BdEYcfC",
        "outputId": "25bba221-fc81-4eb6-8704-c6a1c4efd230"
      },
      "outputs": [
        {
          "name": "stdout",
          "output_type": "stream",
          "text": [
            "Fitting 3 folds for each of 100 candidates, totalling 300 fits\n"
          ]
        },
        {
          "name": "stderr",
          "output_type": "stream",
          "text": [
            "/usr/local/lib/python3.8/dist-packages/sklearn/model_selection/_search.py:926: DataConversionWarning: A column-vector y was passed when a 1d array was expected. Please change the shape of y to (n_samples,), for example using ravel().\n",
            "  self.best_estimator_.fit(X, y, **fit_params)\n"
          ]
        },
        {
          "name": "stdout",
          "output_type": "stream",
          "text": [
            "CPU times: user 19.4 s, sys: 1.65 s, total: 21.1 s\n",
            "Wall time: 45min 59s\n"
          ]
        }
      ],
      "source": [
        "%%time\n",
        "# for random forest classifier\n",
        "# create parameters dict for tunning\n",
        "rf_param_grid = {'n_estimators':[int(x) for x in np.linspace(start=200,stop=2000,num=10)],\n",
        "                 'max_features':['auto','sqrt'],\n",
        "                 'max_depth':[int(x) for x in np.linspace(10,110,num=11)],\n",
        "                 'min_samples_split':[2,5,10],\n",
        "                 'min_samples_leaf':[1,2,4],\n",
        "                 'bootstrap':[True,False]}\n",
        "\n",
        "# passing data for hyper parameter tunning with Randomized search cv\n",
        "\n",
        "random_search(RandomForestClassifier(),X_train,y_train,param_grid=rf_param_grid)"
      ]
    },
    {
      "cell_type": "markdown",
      "metadata": {
        "id": "cN05dpdgRQO_"
      },
      "source": [
        "### working with best model"
      ]
    },
    {
      "cell_type": "code",
      "execution_count": null,
      "metadata": {
        "colab": {
          "background_save": true
        },
        "id": "vh4AUr77wax5",
        "outputId": "b29d318e-4a51-4297-9df3-381f91f385c8"
      },
      "outputs": [
        {
          "name": "stdout",
          "output_type": "stream",
          "text": [
            "Area under ROC of Model On Test Set -99.80%\n"
          ]
        }
      ],
      "source": [
        "# print Area under ROC of Model On Test Set\n",
        "from sklearn.metrics import roc_auc_score\n",
        "score = metrics.roc_auc_score(y_test,y_predict_rf)\n",
        "print(f'Area under ROC of Model On Test Set -{score:,.2%}')\n"
      ]
    },
    {
      "cell_type": "code",
      "execution_count": null,
      "metadata": {
        "colab": {
          "background_save": true
        },
        "id": "SkytbPoGwawF"
      },
      "outputs": [],
      "source": [
        "# Create a dataframe with predicted result as data using best model\n",
        "predictions = pd.DataFrame(y_predict_rf)\n"
      ]
    },
    {
      "cell_type": "code",
      "execution_count": null,
      "metadata": {
        "colab": {
          "background_save": true
        },
        "id": "bYNliUkEwaQ-",
        "outputId": "0ff8ae3b-17e6-48e2-8cb0-d61dcb69d56c"
      },
      "outputs": [
        {
          "data": {
            "text/html": [
              "\n",
              "  <div id=\"df-c896d812-0c8b-4fa7-87ef-369dc9ee842f\">\n",
              "    <div class=\"colab-df-container\">\n",
              "      <div>\n",
              "<style scoped>\n",
              "    .dataframe tbody tr th:only-of-type {\n",
              "        vertical-align: middle;\n",
              "    }\n",
              "\n",
              "    .dataframe tbody tr th {\n",
              "        vertical-align: top;\n",
              "    }\n",
              "\n",
              "    .dataframe thead th {\n",
              "        text-align: right;\n",
              "    }\n",
              "</style>\n",
              "<table border=\"1\" class=\"dataframe\">\n",
              "  <thead>\n",
              "    <tr style=\"text-align: right;\">\n",
              "      <th></th>\n",
              "      <th>0</th>\n",
              "    </tr>\n",
              "  </thead>\n",
              "  <tbody>\n",
              "    <tr>\n",
              "      <th>0</th>\n",
              "      <td>0</td>\n",
              "    </tr>\n",
              "    <tr>\n",
              "      <th>1</th>\n",
              "      <td>1</td>\n",
              "    </tr>\n",
              "    <tr>\n",
              "      <th>2</th>\n",
              "      <td>0</td>\n",
              "    </tr>\n",
              "    <tr>\n",
              "      <th>3</th>\n",
              "      <td>0</td>\n",
              "    </tr>\n",
              "    <tr>\n",
              "      <th>4</th>\n",
              "      <td>0</td>\n",
              "    </tr>\n",
              "  </tbody>\n",
              "</table>\n",
              "</div>\n",
              "      <button class=\"colab-df-convert\" onclick=\"convertToInteractive('df-c896d812-0c8b-4fa7-87ef-369dc9ee842f')\"\n",
              "              title=\"Convert this dataframe to an interactive table.\"\n",
              "              style=\"display:none;\">\n",
              "        \n",
              "  <svg xmlns=\"http://www.w3.org/2000/svg\" height=\"24px\"viewBox=\"0 0 24 24\"\n",
              "       width=\"24px\">\n",
              "    <path d=\"M0 0h24v24H0V0z\" fill=\"none\"/>\n",
              "    <path d=\"M18.56 5.44l.94 2.06.94-2.06 2.06-.94-2.06-.94-.94-2.06-.94 2.06-2.06.94zm-11 1L8.5 8.5l.94-2.06 2.06-.94-2.06-.94L8.5 2.5l-.94 2.06-2.06.94zm10 10l.94 2.06.94-2.06 2.06-.94-2.06-.94-.94-2.06-.94 2.06-2.06.94z\"/><path d=\"M17.41 7.96l-1.37-1.37c-.4-.4-.92-.59-1.43-.59-.52 0-1.04.2-1.43.59L10.3 9.45l-7.72 7.72c-.78.78-.78 2.05 0 2.83L4 21.41c.39.39.9.59 1.41.59.51 0 1.02-.2 1.41-.59l7.78-7.78 2.81-2.81c.8-.78.8-2.07 0-2.86zM5.41 20L4 18.59l7.72-7.72 1.47 1.35L5.41 20z\"/>\n",
              "  </svg>\n",
              "      </button>\n",
              "      \n",
              "  <style>\n",
              "    .colab-df-container {\n",
              "      display:flex;\n",
              "      flex-wrap:wrap;\n",
              "      gap: 12px;\n",
              "    }\n",
              "\n",
              "    .colab-df-convert {\n",
              "      background-color: #E8F0FE;\n",
              "      border: none;\n",
              "      border-radius: 50%;\n",
              "      cursor: pointer;\n",
              "      display: none;\n",
              "      fill: #1967D2;\n",
              "      height: 32px;\n",
              "      padding: 0 0 0 0;\n",
              "      width: 32px;\n",
              "    }\n",
              "\n",
              "    .colab-df-convert:hover {\n",
              "      background-color: #E2EBFA;\n",
              "      box-shadow: 0px 1px 2px rgba(60, 64, 67, 0.3), 0px 1px 3px 1px rgba(60, 64, 67, 0.15);\n",
              "      fill: #174EA6;\n",
              "    }\n",
              "\n",
              "    [theme=dark] .colab-df-convert {\n",
              "      background-color: #3B4455;\n",
              "      fill: #D2E3FC;\n",
              "    }\n",
              "\n",
              "    [theme=dark] .colab-df-convert:hover {\n",
              "      background-color: #434B5C;\n",
              "      box-shadow: 0px 1px 3px 1px rgba(0, 0, 0, 0.15);\n",
              "      filter: drop-shadow(0px 1px 2px rgba(0, 0, 0, 0.3));\n",
              "      fill: #FFFFFF;\n",
              "    }\n",
              "  </style>\n",
              "\n",
              "      <script>\n",
              "        const buttonEl =\n",
              "          document.querySelector('#df-c896d812-0c8b-4fa7-87ef-369dc9ee842f button.colab-df-convert');\n",
              "        buttonEl.style.display =\n",
              "          google.colab.kernel.accessAllowed ? 'block' : 'none';\n",
              "\n",
              "        async function convertToInteractive(key) {\n",
              "          const element = document.querySelector('#df-c896d812-0c8b-4fa7-87ef-369dc9ee842f');\n",
              "          const dataTable =\n",
              "            await google.colab.kernel.invokeFunction('convertToInteractive',\n",
              "                                                     [key], {});\n",
              "          if (!dataTable) return;\n",
              "\n",
              "          const docLinkHtml = 'Like what you see? Visit the ' +\n",
              "            '<a target=\"_blank\" href=https://colab.research.google.com/notebooks/data_table.ipynb>data table notebook</a>'\n",
              "            + ' to learn more about interactive tables.';\n",
              "          element.innerHTML = '';\n",
              "          dataTable['output_type'] = 'display_data';\n",
              "          await google.colab.output.renderOutput(dataTable, element);\n",
              "          const docLink = document.createElement('div');\n",
              "          docLink.innerHTML = docLinkHtml;\n",
              "          element.appendChild(docLink);\n",
              "        }\n",
              "      </script>\n",
              "    </div>\n",
              "  </div>\n",
              "  "
            ],
            "text/plain": [
              "   0\n",
              "0  0\n",
              "1  1\n",
              "2  0\n",
              "3  0\n",
              "4  0"
            ]
          },
          "execution_count": 75,
          "metadata": {},
          "output_type": "execute_result"
        }
      ],
      "source": [
        "predictions.head()"
      ]
    },
    {
      "cell_type": "markdown",
      "metadata": {
        "id": "RG9uGYSFX65g"
      },
      "source": [
        "# Conclusion\n",
        "\n",
        "According to this model, the predicted value we got, matches with the actual target values. The model is performing well.  We have performed EDA, preprocessing, build different models, visualized feature importance, did hyper parameter tunning and did prediction."
      ]
    },
    {
      "cell_type": "markdown",
      "metadata": {
        "id": "p5t_gn_nX0wm"
      },
      "source": [
        "## Congratulation for completing the assignment.\n",
        "You have learned a lot while doing this assignment."
      ]
    }
  ],
  "metadata": {
    "colab": {
      "collapsed_sections": [
        "p5t_gn_nX0wm"
      ],
      "provenance": []
    },
    "kernelspec": {
      "display_name": "Python 3",
      "language": "python",
      "name": "python3"
    },
    "language_info": {
      "codemirror_mode": {
        "name": "ipython",
        "version": 3
      },
      "file_extension": ".py",
      "mimetype": "text/x-python",
      "name": "python",
      "nbconvert_exporter": "python",
      "pygments_lexer": "ipython3",
      "version": "3.7.6"
    }
  },
  "nbformat": 4,
  "nbformat_minor": 0
}